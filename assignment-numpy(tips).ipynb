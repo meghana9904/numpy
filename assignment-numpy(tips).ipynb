{
 "cells": [
  {
   "cell_type": "code",
   "execution_count": 5,
   "id": "2b4636cc",
   "metadata": {},
   "outputs": [],
   "source": [
    "import numpy as np"
   ]
  },
  {
   "cell_type": "code",
   "execution_count": 14,
   "id": "93fbede7",
   "metadata": {},
   "outputs": [],
   "source": [
    "x=np.genfromtxt(r\"C:\\Users\\dell\\Downloads\\tipsf.csv\",dtype=object,skip_header=1,delimiter=\",\")"
   ]
  },
  {
   "cell_type": "code",
   "execution_count": 15,
   "id": "1688fe52",
   "metadata": {},
   "outputs": [
    {
     "data": {
      "text/plain": [
       "array([[b'0', b'16.99', b'1.01', ..., b'1', b'0', b'2'],\n",
       "       [b'1', b'10.34', b'1.66', ..., b'1', b'0', b'3'],\n",
       "       [b'2', b'21.01', b'3.5', ..., b'1', b'0', b'3'],\n",
       "       ...,\n",
       "       [b'241', b'22.67', b'2.0', ..., b'0', b'0', b'2'],\n",
       "       [b'242', b'17.82', b'1.75', ..., b'0', b'0', b'2'],\n",
       "       [b'243', b'18.78', b'3.0', ..., b'2', b'0', b'2']], dtype=object)"
      ]
     },
     "execution_count": 15,
     "metadata": {},
     "output_type": "execute_result"
    }
   ],
   "source": [
    "x"
   ]
  },
  {
   "cell_type": "code",
   "execution_count": 17,
   "id": "861a0d48",
   "metadata": {},
   "outputs": [
    {
     "data": {
      "text/plain": [
       "4827.770000000001"
      ]
     },
     "execution_count": 17,
     "metadata": {},
     "output_type": "execute_result"
    }
   ],
   "source": [
    "# 1. what is the total bill value:\n",
    "\n",
    "np.sum(x,axis=0,dtype=float)[1]"
   ]
  },
  {
   "cell_type": "code",
   "execution_count": 18,
   "id": "58104874",
   "metadata": {},
   "outputs": [
    {
     "data": {
      "text/plain": [
       "731.58"
      ]
     },
     "execution_count": 18,
     "metadata": {},
     "output_type": "execute_result"
    }
   ],
   "source": [
    "#2. what is the total tip value:\n",
    "\n",
    "np.sum(x,axis=0,dtype=float)[2]"
   ]
  },
  {
   "cell_type": "code",
   "execution_count": 19,
   "id": "53733253",
   "metadata": {},
   "outputs": [],
   "source": [
    "#3. count for sundays, saturdays , thursdays and fridays:\n"
   ]
  },
  {
   "cell_type": "code",
   "execution_count": 35,
   "id": "aa07f39a",
   "metadata": {},
   "outputs": [
    {
     "name": "stdout",
     "output_type": "stream",
     "text": [
      "no of sundays =  76\n",
      "no of saturdays = 87\n",
      "no of thursdays = 62\n",
      "no of fridays = 19\n"
     ]
    }
   ],
   "source": [
    "\n",
    "sun=0\n",
    "sat=0\n",
    "thurs=0\n",
    "fri=0\n",
    "for y in range(244):\n",
    "    if int(x[y,5])==1:\n",
    "        sun+=1\n",
    "    elif int(x[y,5])==0:\n",
    "        sat+=1\n",
    "    elif int(x[y,5])==2:\n",
    "        thurs+=1\n",
    "    elif int(x[y,5])==3:\n",
    "        fri+=1\n",
    "    else:\n",
    "        continue\n",
    "print(\"no of sundays = \" ,sun) \n",
    "print(\"no of saturdays =\",sat)\n",
    "print(\"no of thursdays =\",thurs)\n",
    "print(\"no of fridays =\",fri)"
   ]
  },
  {
   "cell_type": "code",
   "execution_count": 20,
   "id": "fd616ebc",
   "metadata": {},
   "outputs": [
    {
     "data": {
      "text/plain": [
       "93.0"
      ]
     },
     "execution_count": 20,
     "metadata": {},
     "output_type": "execute_result"
    }
   ],
   "source": [
    "#4. how many smokers are there\n",
    "\n",
    "np.sum(x,axis=0,dtype=float)[4]"
   ]
  },
  {
   "cell_type": "code",
   "execution_count": 46,
   "id": "659f43b8",
   "metadata": {},
   "outputs": [
    {
     "name": "stdout",
     "output_type": "stream",
     "text": [
      "average tip by female = 2.833448275862069\n",
      "average tip by male = 3.0896178343949052\n"
     ]
    }
   ],
   "source": [
    "#5. what is the avg tip given by female and male:\n",
    "z=0\n",
    "female=0\n",
    "male=0\n",
    "for y in range(244):\n",
    "    if int(x[y,3])==0:\n",
    "        female+=float(x[y,2])\n",
    "        z+=1\n",
    "    else:\n",
    "        male+=float(x[y,2])\n",
    "        \n",
    "        \n",
    "avg_female_tip=female/z\n",
    "avg_male_tip=male/(244-z)\n",
    "\n",
    "print(\"average tip by female =\",avg_female_tip)\n",
    "print(\"average tip by male =\",avg_male_tip)\n",
    "        "
   ]
  },
  {
   "cell_type": "code",
   "execution_count": 47,
   "id": "0c9bc070",
   "metadata": {},
   "outputs": [
    {
     "name": "stdout",
     "output_type": "stream",
     "text": [
      "total amount spent by female = 1817.4600000000005\n",
      "total amount spent by male = 3741.8900000000017\n"
     ]
    }
   ],
   "source": [
    "#6.how much amount has been have been spent by female and male:\n",
    "\n",
    "\n",
    "female=0\n",
    "male=0\n",
    "\n",
    "for y in range(244):\n",
    "    if int(x[y,3])==0:\n",
    "        female+=float(x[y,2])+float(x[y,1])\n",
    "    else:\n",
    "        male+=float(x[y,2])+float(x[y,1])\n",
    "    \n",
    "print(\"total amount spent by female =\",female)\n",
    "print(\"total amount spent by male =\",male)\n"
   ]
  },
  {
   "cell_type": "code",
   "execution_count": 23,
   "id": "8651ae23",
   "metadata": {},
   "outputs": [],
   "source": [
    "#7. what is the min and mix tip value:"
   ]
  },
  {
   "cell_type": "code",
   "execution_count": 24,
   "id": "37dfddcf",
   "metadata": {},
   "outputs": [],
   "source": [
    "#min"
   ]
  },
  {
   "cell_type": "code",
   "execution_count": 26,
   "id": "fec2588a",
   "metadata": {},
   "outputs": [
    {
     "data": {
      "text/plain": [
       "b'1.0'"
      ]
     },
     "execution_count": 26,
     "metadata": {},
     "output_type": "execute_result"
    }
   ],
   "source": [
    "np.min(x,axis=0)[2]"
   ]
  },
  {
   "cell_type": "code",
   "execution_count": 27,
   "id": "f6a647ab",
   "metadata": {},
   "outputs": [],
   "source": [
    "#max"
   ]
  },
  {
   "cell_type": "code",
   "execution_count": 28,
   "id": "b5dcf2e4",
   "metadata": {},
   "outputs": [
    {
     "data": {
      "text/plain": [
       "b'9.0'"
      ]
     },
     "execution_count": 28,
     "metadata": {},
     "output_type": "execute_result"
    }
   ],
   "source": [
    "np.max(x,axis=0)[2]"
   ]
  },
  {
   "cell_type": "code",
   "execution_count": 54,
   "id": "d17c1c60",
   "metadata": {},
   "outputs": [
    {
     "name": "stdout",
     "output_type": "stream",
     "text": [
      "total female for lunch = 35\n",
      "total female for dinner = 52\n",
      "total male for lunch = 33\n",
      "total male for dinner = 124\n"
     ]
    }
   ],
   "source": [
    "#8.how many male and female are going for dinner and lunch:\n",
    "\n",
    "female_lunch=0\n",
    "female_dinner=0\n",
    "male_lunch=0\n",
    "male_dinner=0\n",
    "\n",
    "for y in range(244):\n",
    "    if int(x[y,3])==0 and int(x[y,6])==1:\n",
    "        female_lunch+=1\n",
    "    elif int(x[y,3])==0 and int(x[y,6])==0:\n",
    "        female_dinner+=1\n",
    "    elif int(x[y,3])==1 and int(x[y,6])==1:\n",
    "        male_lunch+=1\n",
    "    else:\n",
    "        male_dinner+=1\n",
    "print(\"total female for lunch =\",female_lunch)\n",
    "print(\"total female for dinner =\",female_dinner)\n",
    "print(\"total male for lunch =\",male_lunch)\n",
    "print(\"total male for dinner =\",male_dinner)"
   ]
  },
  {
   "cell_type": "code",
   "execution_count": 30,
   "id": "ff2698d9",
   "metadata": {},
   "outputs": [
    {
     "data": {
      "text/plain": [
       "2.569672131147541"
      ]
     },
     "execution_count": 30,
     "metadata": {},
     "output_type": "execute_result"
    }
   ],
   "source": [
    "#9. find out the average size:\n",
    "\n",
    "np.mean(x,dtype=float,axis=0)[7]"
   ]
  },
  {
   "cell_type": "code",
   "execution_count": 55,
   "id": "b384d74c",
   "metadata": {},
   "outputs": [
    {
     "name": "stdout",
     "output_type": "stream",
     "text": [
      "total no of female smokers = 33\n",
      "total no of male smokers = 60\n"
     ]
    }
   ],
   "source": [
    "#10. how many female and male smokers are there:\n",
    "\n",
    "female_smoker=0\n",
    "male_smoker=0\n",
    "\n",
    "for y in range(244):\n",
    "    if int(x[y,3])==0 and int(x[y,4])==1:\n",
    "        female_smoker+=1\n",
    "    elif int(x[y,3])==1 and int(x[y,4])==1:\n",
    "        male_smoker+=1\n",
    "    else:\n",
    "        continue\n",
    "print(\"total no of female smokers =\",female_smoker)\n",
    "print(\"total no of male smokers =\",male_smoker)"
   ]
  },
  {
   "cell_type": "code",
   "execution_count": null,
   "id": "4df83086",
   "metadata": {},
   "outputs": [],
   "source": []
  }
 ],
 "metadata": {
  "kernelspec": {
   "display_name": "Python 3 (ipykernel)",
   "language": "python",
   "name": "python3"
  },
  "language_info": {
   "codemirror_mode": {
    "name": "ipython",
    "version": 3
   },
   "file_extension": ".py",
   "mimetype": "text/x-python",
   "name": "python",
   "nbconvert_exporter": "python",
   "pygments_lexer": "ipython3",
   "version": "3.10.9"
  }
 },
 "nbformat": 4,
 "nbformat_minor": 5
}
